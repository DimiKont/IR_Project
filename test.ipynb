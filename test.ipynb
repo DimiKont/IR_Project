{
 "cells": [
  {
   "cell_type": "code",
   "execution_count": null,
   "metadata": {},
   "outputs": [],
   "source": [
    "import pandas as pd\n",
    "import nltk\n",
    "from nltk.corpus import stopwords\n",
    "from nltk.stem import WordNetLemmatizer\n",
    "import string"
   ]
  },
  {
   "cell_type": "code",
   "execution_count": null,
   "metadata": {},
   "outputs": [],
   "source": [
    "nltk.download('stopwords')\n",
    "nltk.download('wordnet')"
   ]
  },
  {
   "cell_type": "markdown",
   "metadata": {},
   "source": [
    "## Βήμα 1: Συλλογή Δεδομένων\n",
    "Τα δεδομένα που χρησιμοποιήθηκαν για την υλοποίηση της εργασίας είναι βρίσκονται στον εξής σύνδεσμο: https://www.kaggle.com/datasets/sameersmahajan/people-wikipedia-data"
   ]
  },
  {
   "cell_type": "code",
   "execution_count": null,
   "metadata": {},
   "outputs": [],
   "source": [
    "df = pd.read_csv('in/pure_people_wiki.csv')\n",
    "\n",
    "stop_words = set(stopwords.words('english'))\n",
    "lemmatizer = WordNetLemmatizer()"
   ]
  },
  {
   "cell_type": "markdown",
   "metadata": {},
   "source": [
    "## Βήμα 2. Προεπεξεργασία κειμένου (Text Processing):"
   ]
  },
  {
   "cell_type": "code",
   "execution_count": null,
   "metadata": {},
   "outputs": [],
   "source": [
    "def tokenize(text):\n",
    "    return text.split()\n",
    "\n",
    "def remove_punctuation(words):\n",
    "    cleaned_words = []\n",
    "    for word in words:\n",
    "        if word not in string.punctuation:\n",
    "            cleaned_words.append(word)\n",
    "    return cleaned_words\n",
    "\n",
    "def filter_stop_words(words):\n",
    "    filtered_words = []\n",
    "    for word in words:\n",
    "        if word not in stop_words:\n",
    "            filtered_words.append(word)\n",
    "    return filtered_words\n",
    "\n",
    "def lemmatize_words(words):\n",
    "    return [lemmatizer.lemmatize(word) for word in words]\n",
    "\n",
    "def preprocess_text(text):\n",
    "    tokens = tokenize(text)                      # Step 1: Tokenization\n",
    "    tokens = remove_punctuation(tokens)          # Step 2: Remove Punctuation\n",
    "    tokens = filter_stop_words(tokens)           # Step 3: Remove Stop Words\n",
    "    lemmatized_tokens = lemmatize_words(tokens)  # Step 4: Lemmatization\n",
    "    return lemmatized_tokens\n",
    "\n",
    "# Apply preprocessing to each text entry\n",
    "df['processed_text'] = df['text'].apply(preprocess_text)\n",
    "\n",
    "# Display the processed DataFrame\n",
    "print(df[['URI', 'name', 'processed_text']].head())"
   ]
  },
  {
   "cell_type": "markdown",
   "metadata": {},
   "source": [
    "## Βήμα 3: Ευρετήριο (Indexing)\n",
    "### α. Δημιουργία inverted index"
   ]
  },
  {
   "cell_type": "code",
   "execution_count": null,
   "metadata": {},
   "outputs": [],
   "source": [
    "corpus = {}\n",
    "\n",
    "# test for the first corpus (see lab example)\n",
    "#corpus['uri0'] = {tok: df['processed_text'][0].count(tok) for tok in df['processed_text'][0]}\n",
    "#print(corpus['uri0'])\n",
    "\n",
    "# Do the same for the first 1000 entries\n",
    "# We enumerate the URI column of the dataframe so we can index it.\n",
    "# Then we take its list of tokens and we count the amount of times each token appears\n",
    "for i, uri in enumerate(df['URI'][:1000]):\n",
    "    corpus[uri] = {tok: df['processed_text'][i].count(tok) for tok in df['processed_text'][i]}\n",
    "\n",
    "# revert it back to a dataframe\n",
    "df = pd.DataFrame.from_records(corpus).fillna(0).astype(int).T\n",
    "df[df.columns]\n"
   ]
  },
  {
   "cell_type": "markdown",
   "metadata": {},
   "source": [
    "### β. Αποθήκευση του Inverted Index σε .csv αρχείο"
   ]
  },
  {
   "cell_type": "code",
   "execution_count": null,
   "metadata": {},
   "outputs": [],
   "source": [
    "# save the dataframe to a csv file\n",
    "df.to_csv('out/results.csv', index = True)"
   ]
  },
  {
   "cell_type": "markdown",
   "metadata": {},
   "source": [
    "Μετατροπή του .csv αρχείου σε dictionary"
   ]
  },
  {
   "cell_type": "code",
   "execution_count": null,
   "metadata": {},
   "outputs": [],
   "source": [
    "df = pd.read_csv('out/results.csv') # read the csv file\n",
    "df.set_index(df.columns[0], inplace=True) # set the first column as the index\n",
    "# print(df)\n",
    "\n",
    "data_dict = df.to_dict(orient='index') # Convert DataFrame to dictionary\n",
    "# Print the first 5 entries of the dictionary\n",
    "for uri, terms in list(data_dict.items())[:5]:\n",
    "    print(f\"Document URI: {uri}, Terms: {terms}\")"
   ]
  },
  {
   "cell_type": "markdown",
   "metadata": {},
   "source": [
    "## 4. Μηχανή Αναζήτησης\n",
    "### α. Επεξεργασία Ερωτήματος (Query Processing)"
   ]
  },
  {
   "cell_type": "code",
   "execution_count": null,
   "metadata": {},
   "outputs": [],
   "source": [
    "def search_query_dict(data_dict, query):\n",
    "    \n",
    "    tokens = query.split() # Split the query into separate tokens\n",
    "    print(\"Tokenized query: \", tokens)\n",
    "\n",
    "    initial_term = tokens[0].lower() # retrieve the first term\n",
    "\n",
    "    # Ensure the initial term exists in the data_dict\n",
    "    if initial_term not in next(iter(data_dict.values())):  # Check the terms in the first document\n",
    "        print(f\"Term '{initial_term}' not found in the documents.\")\n",
    "        return set()\n",
    "\n",
    "    # Get URIs for the initial term (those documents where the term has a frequency > 0)\n",
    "    results = {uri for uri, terms in data_dict.items() if terms.get(initial_term, 0) > 0}\n",
    "    combined_results = results\n",
    "\n",
    "    # Process additional terms with Boolean operators (AND, OR, NOT)\n",
    "    i = 1\n",
    "    while i < len(tokens):\n",
    "        operator = tokens[i].upper()\n",
    "        term = tokens[i + 1].lower()\n",
    "\n",
    "        # Ensure the term exists in the data\n",
    "        if term not in next(iter(data_dict.values())):\n",
    "            print(f\"Term '{term}' not found in the documents.\")\n",
    "            return set()\n",
    "\n",
    "        # Get URIs for the current term (those documents where the term has a frequency > 0)\n",
    "        term_uris = {uri for uri, terms in data_dict.items() if terms.get(term, 0) > 0}\n",
    "\n",
    "        # Apply the Boolean operators\n",
    "        if operator == \"AND\":\n",
    "            combined_results &= term_uris  # Intersection for AND\n",
    "        elif operator == \"OR\":\n",
    "            combined_results |= term_uris  # Union for OR\n",
    "        elif operator == \"NOT\":\n",
    "            combined_results -= term_uris  # Difference for NOT\n",
    "\n",
    "        i += 2  # Move to the next pair\n",
    "\n",
    "    print(f\"Combined result URIs: {combined_results}\")\n",
    "    \n",
    "    # Return the final result set of matching URIs\n",
    "    return combined_results"
   ]
  },
  {
   "cell_type": "code",
   "execution_count": null,
   "metadata": {},
   "outputs": [],
   "source": [
    "# Test the search_query_dict function\n",
    "query = \"musician AND jazz\"\n",
    "matching_uris = search_query_dict(data_dict, query)\n",
    "print(\"Final matching URIs: \", matching_uris)\n",
    "print(\"Number of matching URIs: \", len(matching_uris))"
   ]
  }
 ],
 "metadata": {
  "kernelspec": {
   "display_name": "base",
   "language": "python",
   "name": "python3"
  },
  "language_info": {
   "codemirror_mode": {
    "name": "ipython",
    "version": 3
   },
   "file_extension": ".py",
   "mimetype": "text/x-python",
   "name": "python",
   "nbconvert_exporter": "python",
   "pygments_lexer": "ipython3",
   "version": "3.12.7"
  }
 },
 "nbformat": 4,
 "nbformat_minor": 2
}
